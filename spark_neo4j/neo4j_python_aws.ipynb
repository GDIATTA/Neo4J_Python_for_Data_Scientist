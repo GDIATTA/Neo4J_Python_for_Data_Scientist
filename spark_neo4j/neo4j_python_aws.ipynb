{
 "cells": [
  {
   "cell_type": "code",
   "execution_count": 1,
   "id": "a2110c76-9858-4833-9887-0f7744445527",
   "metadata": {},
   "outputs": [
    {
     "name": "stdout",
     "output_type": "stream",
     "text": [
      "2.8.0\n"
     ]
    }
   ],
   "source": [
    "from graphdatascience import GraphDataScience\n",
    "\n",
    "# Use Neo4j URI and credentials according to your setup\n",
    "NEO4J_URI = \"bolt://neo4j:7687\"\n",
    "NEO4J_USER = \"neo4j\"\n",
    "NEO4J_PASSWORD = \"Bienvenue2024!\"\n",
    "gds = GraphDataScience(NEO4J_URI, auth=(NEO4J_USER, NEO4J_PASSWORD))\n",
    "\n",
    "# Check the installed GDS version on the server\n",
    "print(gds.version())"
   ]
  },
  {
   "cell_type": "code",
   "execution_count": 14,
   "id": "6224c173-d063-4d04-9fe4-c187f6e07760",
   "metadata": {},
   "outputs": [],
   "source": [
    "# Create a minimal example graph\n",
    "gds.run_cypher(\n",
    "  \"\"\"\n",
    "  CREATE\n",
    "  (m: City {name: \"Malmö\"}),\n",
    "  (l: City {name: \"London\"}),\n",
    "  (s: City {name: \"San Mateo\"}),\n",
    "  (m)-[:FLY_TO]->(l),\n",
    "  (l)-[:FLY_TO]->(m),\n",
    "  (l)-[:FLY_TO]->(s),\n",
    "  (s)-[:FLY_TO]->(l)\n",
    "  \"\"\"\n",
    ")\n",
    "\n",
    "# Project the graph into the GDS Graph Catalog\n",
    "# We call the object representing the projected graph `G_office`\n",
    "G_office, project_result = gds.graph.project(\"neo4j-offices1\", \"City\", \"FLY_TO\")\n",
    "\n",
    "# Run the mutate mode of the PageRank algorithm\n",
    "mutate_result = gds.pageRank.mutate(G_office, tolerance=0.5, mutateProperty=\"rank\")\n"
   ]
  },
  {
   "cell_type": "code",
   "execution_count": 17,
   "id": "f97ca961-a03a-4df2-b5ad-1d844f2fa486",
   "metadata": {},
   "outputs": [
    {
     "name": "stdout",
     "output_type": "stream",
     "text": [
      "True\n"
     ]
    }
   ],
   "source": [
    "# We can inspect the node properties of our projected graph directly\n",
    "# via the graph object and see that indeed the new property exists\n",
    "#assert G_office.node_properties(\"City\") == [\"rank\"]\n",
    "def check_node_properties():\n",
    "    try:\n",
    "        if G_office.node_properties(\"City\") == [\"rank\"]:\n",
    "            print(\"True\")\n",
    "    except AssertionError :\n",
    "        print(\"Error\")\n",
    "        \n",
    "check_node_properties()"
   ]
  },
  {
   "cell_type": "code",
   "execution_count": 18,
   "id": "55369a3f-76ca-4481-87ed-19b5de67029b",
   "metadata": {
    "tags": []
   },
   "outputs": [],
   "source": [
    "## Projecting a graph object\n",
    "# We put this simple graph in our database\n",
    "gds.run_cypher(\n",
    "  \"\"\"\n",
    "  CREATE\n",
    "    (m: City {name: \"Malmö\"}),\n",
    "    (l: City {name: \"London\"}),\n",
    "    (s: City {name: \"San Mateo\"}),\n",
    "\n",
    "    (m)-[:FLY_TO]->(l),\n",
    "    (l)-[:FLY_TO]->(m),\n",
    "    (l)-[:FLY_TO]->(s),\n",
    "    (s)-[:FLY_TO]->(l)\n",
    "  \"\"\"\n",
    ")\n",
    "\n",
    "# We estimate required memory of the operation\n",
    "res = gds.graph.project.estimate(\n",
    "    [\"City\"],                   #  Node projection\n",
    "    \"FLY_TO\",                   #  Relationship projection\n",
    "    readConcurrency=4           #  Configuration parameters\n",
    ")"
   ]
  },
  {
   "cell_type": "code",
   "execution_count": 19,
   "id": "ebfe5978-c7cc-45fa-b905-6585c4948736",
   "metadata": {},
   "outputs": [
    {
     "name": "stdout",
     "output_type": "stream",
     "text": [
      "True\n"
     ]
    }
   ],
   "source": [
    "# assert res[\"bytesMax\"] < 1e12\n",
    "def check_res():\n",
    "    try:\n",
    "        if res[\"bytesMax\"] < 1e12:\n",
    "            print(\"True\")\n",
    "    except AssertionError :\n",
    "        print(\"Error\")\n",
    "        \n",
    "check_res()"
   ]
  },
  {
   "cell_type": "code",
   "execution_count": 21,
   "id": "fef75ae9-36e8-4e26-ba7e-9b911fade7d9",
   "metadata": {},
   "outputs": [],
   "source": [
    "G, result = gds.graph.project(\n",
    "    \"offices1\",                  #  Graph name\n",
    "    [\"City\"],                   #  Node projection\n",
    "    \"FLY_TO\",                   #  Relationship projection\n",
    "    readConcurrency=4           #  Configuration parameters\n",
    ")\n"
   ]
  },
  {
   "cell_type": "code",
   "execution_count": 22,
   "id": "fc64640f-561d-4928-99da-cf9dfe16c9a9",
   "metadata": {},
   "outputs": [
    {
     "name": "stdout",
     "output_type": "stream",
     "text": [
      "True\n"
     ]
    }
   ],
   "source": [
    "# assert G.node_count() == result[\"nodeCount\"]\n",
    "def check_result():\n",
    "    try:\n",
    "        if G.node_count() == result[\"nodeCount\"]:\n",
    "            print(\"True\")\n",
    "    except AssertionError :\n",
    "        print(\"Error\")\n",
    "        \n",
    "check_result()"
   ]
  },
  {
   "cell_type": "code",
   "execution_count": 9,
   "id": "94939c6a-7d96-4f33-8de1-1f557161f430",
   "metadata": {},
   "outputs": [
    {
     "name": "stdout",
     "output_type": "stream",
     "text": [
      "Graph(name=offices, node_count=6, relationship_count=8)\n"
     ]
    }
   ],
   "source": [
    "G = gds.graph.get(\"offices\")\n",
    "print(G)"
   ]
  },
  {
   "cell_type": "code",
   "execution_count": 24,
   "id": "e786e125-72ab-45d3-8faa-ea485c305579",
   "metadata": {},
   "outputs": [],
   "source": [
    "## Constructing a graph from DataFrames\n",
    "import pandas as pd\n",
    "nodes = pd.DataFrame(\n",
    "    {\n",
    "        \"nodeId\": [0, 1, 2, 3],\n",
    "        \"labels\":  [\"A\", \"B\", \"C\", \"A\"],\n",
    "        \"prop1\": [42, 1337, 8, 0],\n",
    "        \"otherProperty\": [0.1, 0.2, 0.3, 0.4]\n",
    "    }\n",
    ")\n",
    "\n",
    "relationships = pd.DataFrame(\n",
    "    {\n",
    "        \"sourceNodeId\": [0, 1, 2, 3],\n",
    "        \"targetNodeId\": [1, 2, 3, 0],\n",
    "        \"relationshipType\": [\"REL\", \"REL\", \"REL\", \"REL\"],\n",
    "        \"weight\": [0.0, 0.0, 0.1, 42.0]\n",
    "    }\n",
    ")\n",
    "\n",
    "G = gds.graph.construct(\n",
    "    \"my-graph3\",      # Graph name\n",
    "    nodes,           # One or more dataframes containing node data\n",
    "    relationships    # One or more dataframes containing relationship data\n",
    ")\n",
    "\n",
    "assert \"REL\" in G.relationship_types()"
   ]
  },
  {
   "cell_type": "code",
   "execution_count": 25,
   "id": "a5beaa95-2d61-491c-a8be-b719ed02a16a",
   "metadata": {},
   "outputs": [
    {
     "name": "stdout",
     "output_type": "stream",
     "text": [
      "Relationship type 'REL' exists.\n"
     ]
    }
   ],
   "source": [
    "# Function to check and print relationship type\n",
    "def check_relationship_type():\n",
    "    try:\n",
    "        if \"REL\" in G.relationship_types():\n",
    "            print(\"Relationship type 'REL' exists.\")\n",
    "        else:\n",
    "            print(\"Relationship type 'REL' does not exist.\")\n",
    "    except AssertionError:\n",
    "        print(\"Assertion failed: 'REL' is not in the list of relationship types.\")\n",
    "# Check and print the relationship type\n",
    "check_relationship_type()"
   ]
  },
  {
   "cell_type": "code",
   "execution_count": 28,
   "id": "d463ed37-b3da-426b-9cb6-bbae5e1c75bf",
   "metadata": {},
   "outputs": [
    {
     "data": {
      "text/html": [
       "<div>\n",
       "<style scoped>\n",
       "    .dataframe tbody tr th:only-of-type {\n",
       "        vertical-align: middle;\n",
       "    }\n",
       "\n",
       "    .dataframe tbody tr th {\n",
       "        vertical-align: top;\n",
       "    }\n",
       "\n",
       "    .dataframe thead th {\n",
       "        text-align: right;\n",
       "    }\n",
       "</style>\n",
       "<table border=\"1\" class=\"dataframe\">\n",
       "  <thead>\n",
       "    <tr style=\"text-align: right;\">\n",
       "      <th></th>\n",
       "    </tr>\n",
       "  </thead>\n",
       "  <tbody>\n",
       "  </tbody>\n",
       "</table>\n",
       "</div>"
      ],
      "text/plain": [
       "Empty DataFrame\n",
       "Columns: []\n",
       "Index: []"
      ]
     },
     "execution_count": 28,
     "metadata": {},
     "output_type": "execute_result"
    }
   ],
   "source": [
    "gds.run_cypher(\n",
    "    \"\"\"\n",
    "    CREATE\n",
    "    (a:A {prop1: 42,    otherProperty: 0.1}),\n",
    "    (b:B {prop1: 1337,  otherProperty: 0.2}),\n",
    "    (c:C {prop1: 8,     otherProperty: 0.3}),\n",
    "    (d:A {prop1: 0,     otherProperty: 0.4}),\n",
    "    (a)-[:REL {weight: 0.0}]->(b),\n",
    "    (b)-[:REL {weight: 0.0}]->(c),\n",
    "    (c)-[:REL {weight: 0.1}]->(d),\n",
    "    (d)-[:REL {weight: 42.0}]->(a)\n",
    "    \"\"\"\n",
    ")"
   ]
  },
  {
   "cell_type": "code",
   "execution_count": 3,
   "id": "4037c861-a46c-4d29-9d13-8a2d762d4b39",
   "metadata": {},
   "outputs": [
    {
     "name": "stdout",
     "output_type": "stream",
     "text": [
      "Collecting boto3\n",
      "  Using cached boto3-1.34.153-py3-none-any.whl (139 kB)\n",
      "Collecting jmespath<2.0.0,>=0.7.1\n",
      "  Using cached jmespath-1.0.1-py3-none-any.whl (20 kB)\n",
      "Collecting botocore<1.35.0,>=1.34.153\n",
      "  Using cached botocore-1.34.153-py3-none-any.whl (12.4 MB)\n",
      "Collecting s3transfer<0.11.0,>=0.10.0\n",
      "  Using cached s3transfer-0.10.2-py3-none-any.whl (82 kB)\n",
      "Requirement already satisfied: urllib3!=2.2.0,<3,>=1.25.4 in /opt/conda/lib/python3.10/site-packages (from botocore<1.35.0,>=1.34.153->boto3) (1.26.11)\n",
      "Requirement already satisfied: python-dateutil<3.0.0,>=2.1 in /opt/conda/lib/python3.10/site-packages (from botocore<1.35.0,>=1.34.153->boto3) (2.8.2)\n",
      "Requirement already satisfied: six>=1.5 in /opt/conda/lib/python3.10/site-packages (from python-dateutil<3.0.0,>=2.1->botocore<1.35.0,>=1.34.153->boto3) (1.16.0)\n",
      "Installing collected packages: jmespath, botocore, s3transfer, boto3\n",
      "Successfully installed boto3-1.34.153 botocore-1.34.153 jmespath-1.0.1 s3transfer-0.10.2\n",
      "Note: you may need to restart the kernel to use updated packages.\n"
     ]
    }
   ],
   "source": [
    "pip install boto3"
   ]
  },
  {
   "cell_type": "code",
   "execution_count": 4,
   "id": "19534468-770b-4566-b217-e16a1ff11867",
   "metadata": {},
   "outputs": [],
   "source": [
    "import boto3\n",
    "\n",
    "# boto3 is the AWS SDK library for Python.\n",
    "# We can use the low-level client to make API calls to DynamoDB.\n",
    "client = boto3.client(\n",
    "    'dynamodb',\n",
    "    region_name='eu-west-3',\n",
    "    #aws_access_key_id='AKIA4MTWHWW4ZVPEBXYPGMFH',\n",
    "    #aws_secret_access_key='bOrcX8ltPNaOHFnlj60Xa8ouge6GutPAVvGiZK7fovZC'\n",
    "    #aws_session_token='your_session_token'  # Only if using temporary session tokens\n",
    "\n",
    ")"
   ]
  },
  {
   "cell_type": "code",
   "execution_count": 5,
   "id": "8295fae2-02a9-42b4-be62-a2cd26296366",
   "metadata": {},
   "outputs": [
    {
     "name": "stdout",
     "output_type": "stream",
     "text": [
      "Table created successfully!\n"
     ]
    }
   ],
   "source": [
    "try:\n",
    "    resp = client.create_table(\n",
    "        TableName=\"Books1\",\n",
    "        # Declare your Primary Key in the KeySchema argument\n",
    "        KeySchema=[\n",
    "            {\n",
    "                \"AttributeName\": \"Author\",\n",
    "                \"KeyType\": \"HASH\"\n",
    "            },\n",
    "            {\n",
    "                \"AttributeName\": \"Title\",\n",
    "                \"KeyType\": \"RANGE\"\n",
    "            }\n",
    "        ],\n",
    "        # Any attributes used in KeySchema or Indexes must be declared in AttributeDefinitions\n",
    "        AttributeDefinitions=[\n",
    "            {\n",
    "                \"AttributeName\": \"Author\",\n",
    "                \"AttributeType\": \"S\"\n",
    "            },\n",
    "            {\n",
    "                \"AttributeName\": \"Title\",\n",
    "                \"AttributeType\": \"S\"\n",
    "            }\n",
    "        ],\n",
    "        # ProvisionedThroughput controls the amount of data you can read or write to DynamoDB per second.\n",
    "        # You can control read and write capacity independently.\n",
    "        ProvisionedThroughput={\n",
    "            \"ReadCapacityUnits\": 1,\n",
    "            \"WriteCapacityUnits\": 1\n",
    "        }\n",
    "    )\n",
    "    print(\"Table created successfully!\")\n",
    "except Exception as e:\n",
    "    print(\"Error creating table:\")\n",
    "    print(e)"
   ]
  },
  {
   "cell_type": "code",
   "execution_count": 6,
   "id": "4c649cd2-b274-4ed5-b86d-19cd6c1befb4",
   "metadata": {},
   "outputs": [],
   "source": [
    "dynamodb = boto3.resource(\n",
    "    'dynamodb',\n",
    "    region_name='eu-west-3',\n",
    "    #aws_access_key_id='AKIA4MTWHWW4ZVPEBXYPGMFH',\n",
    "    #aws_secret_access_key='bOrcX8ltPNaOHFnlj60Xa8ouge6GutPAVvGiZK7fovZC'\n",
    "    #aws_session_token='your_session_token'  # Only if using temporary session tokens\n",
    "    \n",
    ")"
   ]
  },
  {
   "cell_type": "code",
   "execution_count": 7,
   "id": "99e85cc1-34aa-40e2-906a-fb1f37975106",
   "metadata": {},
   "outputs": [],
   "source": [
    "table = dynamodb.Table('Books1')\n",
    "\n",
    "with table.batch_writer() as batch:\n",
    "    batch.put_item(Item={\"Author\": \"John Grisham\", \"Title\": \"The Rainmaker\",\n",
    "        \"Category\": \"Suspense\", \"Formats\": { \"Hardcover\": \"J4SUKVGU\", \"Paperback\": \"D7YF4FCX\" } })\n",
    "    batch.put_item(Item={\"Author\": \"John Grisham\", \"Title\": \"The Firm\",\n",
    "        \"Category\": \"Suspense\", \"Formats\": { \"Hardcover\": \"Q7QWE3U2\",\n",
    "        \"Paperback\": \"ZVZAYY4F\", \"Audiobook\": \"DJ9KS9NM\" } })\n",
    "    batch.put_item(Item={\"Author\": \"James Patterson\", \"Title\": \"Along Came a Spider\",\n",
    "        \"Category\": \"Suspense\", \"Formats\": { \"Hardcover\": \"C9NR6RJ7\",\n",
    "        \"Paperback\": \"37JVGDZG\", \"Audiobook\": \"6348WX3U\" } })\n",
    "    batch.put_item(Item={\"Author\": \"Dr. Seuss\", \"Title\": \"Green Eggs and Ham\",\n",
    "        \"Category\": \"Children\", \"Formats\": { \"Hardcover\": \"GVJZQ7JK\",\n",
    "        \"Paperback\": \"A4TFUR98\", \"Audiobook\": \"XWMGHW96\" } })\n",
    "    batch.put_item(Item={\"Author\": \"William Shakespeare\", \"Title\": \"Hamlet\",\n",
    "        \"Category\": \"Drama\", \"Formats\": { \"Hardcover\": \"GVJZQ7JK\",\n",
    "        \"Paperback\": \"A4TFUR98\", \"Audiobook\": \"XWMGHW96\" } })"
   ]
  },
  {
   "cell_type": "code",
   "execution_count": 13,
   "id": "85d573e9-3a40-45ba-9240-96628d4ec767",
   "metadata": {},
   "outputs": [
    {
     "data": {
      "text/html": [
       "<div>\n",
       "<style scoped>\n",
       "    .dataframe tbody tr th:only-of-type {\n",
       "        vertical-align: middle;\n",
       "    }\n",
       "\n",
       "    .dataframe tbody tr th {\n",
       "        vertical-align: top;\n",
       "    }\n",
       "\n",
       "    .dataframe thead th {\n",
       "        text-align: right;\n",
       "    }\n",
       "</style>\n",
       "<table border=\"1\" class=\"dataframe\">\n",
       "  <thead>\n",
       "    <tr style=\"text-align: right;\">\n",
       "      <th></th>\n",
       "    </tr>\n",
       "  </thead>\n",
       "  <tbody>\n",
       "  </tbody>\n",
       "</table>\n",
       "</div>"
      ],
      "text/plain": [
       "Empty DataFrame\n",
       "Columns: []\n",
       "Index: []"
      ]
     },
     "execution_count": 13,
     "metadata": {},
     "output_type": "execute_result"
    }
   ],
   "source": [
    "gds.run_cypher(\n",
    "    \"\"\"\n",
    "    CREATE\n",
    "    (a:A1 {Author: \"John Grisham\", Title: \"The Rainmaker\",Category: \"Suspense\"}),\n",
    "    (b:B1 {Author: \"John Grisham\", Title: \"The Firm\",Category: \"Suspense\"}),\n",
    "    (c:C1 {Author: \"James Patterson\", Title: \"Along Came a Spider\",Category: \"Suspense\"}),\n",
    "    (d:D1 {Author: \"Dr. Seuss\", Title: \"Green Eggs and Ham\",Category: \"Children\"}),\n",
    "    (a)-[:REL1 {weight: 0.0}]->(b),\n",
    "    (b)-[:REL1 {weight: 0.0}]->(c),\n",
    "    (c)-[:REL1 {weight: 0.1}]->(d),\n",
    "    (d)-[:REL1 {weight: 42.0}]->(a)\n",
    "    \"\"\"\n",
    ")"
   ]
  },
  {
   "cell_type": "code",
   "execution_count": 14,
   "id": "72e8c6d8-8fde-48ca-99f3-2a3334404d64",
   "metadata": {},
   "outputs": [],
   "source": [
    "gds.run_cypher(\n",
    "  \"\"\"\n",
    "  CREATE\n",
    "    (a:City {name: \"New York City\", settled: 1624}),\n",
    "    (b:City {name: \"Philadelphia\", settled: 1682}),\n",
    "    (c:City:Capital {name: \"Washington D.C.\", settled: 1790}),\n",
    "    (d:City {name: \"Baltimore\"}),\n",
    "    (e:City {name: \"Atlantic City\"}),\n",
    "    (f:City {name: \"Boston\"}),\n",
    "\n",
    "    (a)-[:ROAD {cost: 50}]->(b),\n",
    "    (a)-[:ROAD {cost: 50}]->(c),\n",
    "    (a)-[:ROAD {cost: 100}]->(d),\n",
    "    (b)-[:ROAD {cost: 40}]->(d),\n",
    "    (c)-[:ROAD {cost: 40}]->(d),\n",
    "    (c)-[:ROAD {cost: 80}]->(e),\n",
    "    (d)-[:ROAD {cost: 30}]->(e),\n",
    "    (d)-[:ROAD {cost: 80}]->(f),\n",
    "    (e)-[:ROAD {cost: 40}]->(f);\n",
    "  \"\"\"\n",
    ")\n",
    "G, project_result = gds.graph.project(\"road_graph\", \"City\", {\"ROAD\": {\"properties\": [\"cost\"]}})\n"
   ]
  },
  {
   "cell_type": "code",
   "execution_count": null,
   "id": "b5dcf629-4f5f-4109-a5a2-f7abb3468d7a",
   "metadata": {},
   "outputs": [],
   "source": [
    "# assert G.relationship_count() == 9\n",
    "def check_relationship_count():\n",
    "    try:\n",
    "        if G.relationship_count() == 9:\n",
    "            print(\"True\")\n",
    "    except AssertionError :\n",
    "        print(\"Error\")\n",
    "        \n",
    "check_relationship_count()"
   ]
  }
 ],
 "metadata": {
  "kernelspec": {
   "display_name": "Python 3 (ipykernel)",
   "language": "python",
   "name": "python3"
  },
  "language_info": {
   "codemirror_mode": {
    "name": "ipython",
    "version": 3
   },
   "file_extension": ".py",
   "mimetype": "text/x-python",
   "name": "python",
   "nbconvert_exporter": "python",
   "pygments_lexer": "ipython3",
   "version": "3.10.6"
  }
 },
 "nbformat": 4,
 "nbformat_minor": 5
}
